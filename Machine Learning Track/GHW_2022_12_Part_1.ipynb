{
  "nbformat": 4,
  "nbformat_minor": 0,
  "metadata": {
    "colab": {
      "provenance": [],
      "include_colab_link": true
    },
    "kernelspec": {
      "name": "python3",
      "display_name": "Python 3"
    },
    "language_info": {
      "name": "python"
    }
  },
  "cells": [
    {
      "cell_type": "markdown",
      "metadata": {
        "id": "view-in-github",
        "colab_type": "text"
      },
      "source": [
        "<a href=\"https://colab.research.google.com/github/TejaTadepalli/GHW-2022-December/blob/main/Machine%20Learning%20Track/GHW_2022_12_Part_1.ipynb\" target=\"_parent\"><img src=\"https://colab.research.google.com/assets/colab-badge.svg\" alt=\"Open In Colab\"/></a>"
      ]
    },
    {
      "cell_type": "markdown",
      "source": [
        "# Intro to Python"
      ],
      "metadata": {
        "id": "uPH6Z6ypDxjc"
      }
    },
    {
      "cell_type": "code",
      "source": [
        "print(\"Hello world!\")"
      ],
      "metadata": {
        "colab": {
          "base_uri": "https://localhost:8080/"
        },
        "id": "nkAvQv_yDimj",
        "outputId": "c4819332-00ba-4a8f-8658-c9ff735657e1"
      },
      "execution_count": null,
      "outputs": [
        {
          "output_type": "stream",
          "name": "stdout",
          "text": [
            "Hello world!\n"
          ]
        }
      ]
    },
    {
      "cell_type": "code",
      "source": [
        "# Basic Declarations\n",
        "\n",
        "my_integer = 6\n",
        "my_floating_point_number = 16.5\n",
        "foo = 12.1\n",
        "my_string = 'hello!'\n",
        "my_other_string = \"hey!\"\n",
        "my_boolean = False\n",
        "\n",
        "my_integer, my_floating_point_number, foo, my_string, my_other_string, my_boolean"
      ],
      "metadata": {
        "colab": {
          "base_uri": "https://localhost:8080/"
        },
        "id": "JqhC2WN4DztX",
        "outputId": "dacd3d30-3b2b-4077-c260-99c0e6b92a1b"
      },
      "execution_count": null,
      "outputs": [
        {
          "output_type": "execute_result",
          "data": {
            "text/plain": [
              "(6, 16.5, 12.1, 'hello!', 'hey!', False)"
            ]
          },
          "metadata": {},
          "execution_count": 2
        }
      ]
    },
    {
      "cell_type": "code",
      "source": [
        "# some arithmetic examples\n",
        "\n",
        "a = 26\n",
        "b = 5\n",
        "\n",
        "a_plus_b = a + b\n",
        "a_minus_b = a - b\n",
        "a_times_b = a * b\n",
        "a_divided_by_b = a / b\n",
        "\n",
        "a_plus_b, a_minus_b, a_times_b,a_divided_by_b"
      ],
      "metadata": {
        "colab": {
          "base_uri": "https://localhost:8080/"
        },
        "id": "2mqXCDxfFjsu",
        "outputId": "1ea68087-2eae-41f9-a695-b5e7b6e12f58"
      },
      "execution_count": null,
      "outputs": [
        {
          "output_type": "execute_result",
          "data": {
            "text/plain": [
              "(31, 21, 130, 5.2)"
            ]
          },
          "metadata": {},
          "execution_count": 3
        }
      ]
    },
    {
      "cell_type": "code",
      "source": [
        "a_integer_divided_by_b = a // b\n",
        "\n",
        "a_integer_divided_by_b"
      ],
      "metadata": {
        "colab": {
          "base_uri": "https://localhost:8080/"
        },
        "id": "m8jAraV4F2wW",
        "outputId": "dfb116a2-d28a-46af-a3dd-04bd47b290bf"
      },
      "execution_count": null,
      "outputs": [
        {
          "output_type": "execute_result",
          "data": {
            "text/plain": [
              "5"
            ]
          },
          "metadata": {},
          "execution_count": 4
        }
      ]
    },
    {
      "cell_type": "code",
      "source": [
        "a_modulo_b = a % b\n",
        "a_modulo_b"
      ],
      "metadata": {
        "colab": {
          "base_uri": "https://localhost:8080/"
        },
        "id": "Xll_LsTWGVxk",
        "outputId": "e4978246-fbdc-40b8-d862-b3eaafd85b97"
      },
      "execution_count": null,
      "outputs": [
        {
          "output_type": "execute_result",
          "data": {
            "text/plain": [
              "1"
            ]
          },
          "metadata": {},
          "execution_count": 5
        }
      ]
    },
    {
      "cell_type": "code",
      "source": [
        "a_exponent_b = a ** b\n",
        "a_exponent_b"
      ],
      "metadata": {
        "colab": {
          "base_uri": "https://localhost:8080/"
        },
        "id": "lSIToDHwG8P8",
        "outputId": "c5a30994-a8b4-47cd-df8b-fe7090982655"
      },
      "execution_count": null,
      "outputs": [
        {
          "output_type": "execute_result",
          "data": {
            "text/plain": [
              "11881376"
            ]
          },
          "metadata": {},
          "execution_count": 6
        }
      ]
    },
    {
      "cell_type": "code",
      "source": [
        "day_of_the_month = 4\n",
        "\n",
        "day_of_the_month += 1 # this will instead say day_of_the_month=day_of_the_month+1\n",
        "\n",
        "day_of_the_month"
      ],
      "metadata": {
        "colab": {
          "base_uri": "https://localhost:8080/"
        },
        "id": "FMlhb8-PHQxg",
        "outputId": "18cbcd64-b4dd-4b4e-808d-8c20a58718c1"
      },
      "execution_count": null,
      "outputs": [
        {
          "output_type": "execute_result",
          "data": {
            "text/plain": [
              "5"
            ]
          },
          "metadata": {},
          "execution_count": 7
        }
      ]
    },
    {
      "cell_type": "code",
      "source": [
        "x = 10\n",
        "\n",
        "x **= 2 # this will say (x=x raised to 2) or x=x^2\n",
        "\n",
        "x"
      ],
      "metadata": {
        "colab": {
          "base_uri": "https://localhost:8080/"
        },
        "id": "4HDqxv36HiZl",
        "outputId": "6a4ac5a4-efe9-4a23-d5d6-08f52bdff520"
      },
      "execution_count": null,
      "outputs": [
        {
          "output_type": "execute_result",
          "data": {
            "text/plain": [
              "100"
            ]
          },
          "metadata": {},
          "execution_count": 8
        }
      ]
    },
    {
      "cell_type": "code",
      "source": [
        "x += 1  # smth like x=x+1"
      ],
      "metadata": {
        "id": "5gokBr7kHmW_"
      },
      "execution_count": null,
      "outputs": []
    },
    {
      "cell_type": "code",
      "source": [
        "x"
      ],
      "metadata": {
        "colab": {
          "base_uri": "https://localhost:8080/"
        },
        "id": "EpF5MhmqIGi8",
        "outputId": "69689f68-2069-4fde-a4f9-afce485008dd"
      },
      "execution_count": null,
      "outputs": [
        {
          "output_type": "execute_result",
          "data": {
            "text/plain": [
              "101"
            ]
          },
          "metadata": {},
          "execution_count": 10
        }
      ]
    },
    {
      "cell_type": "markdown",
      "source": [
        "# Strings\n",
        " MARKDOWN\n",
        "## Subtitle"
      ],
      "metadata": {
        "id": "pYDbzb9vIT-9"
      }
    },
    {
      "cell_type": "code",
      "source": [
        "# String Operations\n",
        "\n",
        "my_name = 'Will'\n",
        "\n",
        "greeting = 'Hello ' + my_name + '!' + str(2)  # we can't directly type 2... hence we say that \"turn 2 into a string\" with the help of str(2)\n",
        "\n",
        "greeting"
      ],
      "metadata": {
        "colab": {
          "base_uri": "https://localhost:8080/",
          "height": 35
        },
        "id": "vi1TlapWIHMn",
        "outputId": "7db7c49c-94ba-4ce2-a8b3-38c96bc1ed4e"
      },
      "execution_count": null,
      "outputs": [
        {
          "output_type": "execute_result",
          "data": {
            "text/plain": [
              "'Hello Will!2'"
            ],
            "application/vnd.google.colaboratory.intrinsic+json": {
              "type": "string"
            }
          },
          "metadata": {},
          "execution_count": 11
        }
      ]
    },
    {
      "cell_type": "code",
      "source": [
        "favorite_drink = 'cortado'\n",
        "n = 20\n",
        "fun_fact = f'My favorite coffee drink is a {favorite_drink}. I want to drink {n} of them' # f is used for \"format-string\" purposes\n",
        "\n",
        "fun_fact"
      ],
      "metadata": {
        "colab": {
          "base_uri": "https://localhost:8080/",
          "height": 35
        },
        "id": "ly8RpLQAIhL4",
        "outputId": "29cb3643-f394-4eef-9e85-9016943bb169"
      },
      "execution_count": null,
      "outputs": [
        {
          "output_type": "execute_result",
          "data": {
            "text/plain": [
              "'My favorite coffee drink is a cortado. I want to drink 20 of them'"
            ],
            "application/vnd.google.colaboratory.intrinsic+json": {
              "type": "string"
            }
          },
          "metadata": {},
          "execution_count": 12
        }
      ]
    },
    {
      "cell_type": "code",
      "source": [
        "oh_the_places_youll_go = 'congratulations, today is your day; you\\'re off to great places, you\\'re off and away!😂'\n",
        "\n",
        "len(oh_the_places_youll_go) # used to find the length of the string... it does include the punctuation,spaces but not the \"\\\" (back-slashes)"
      ],
      "metadata": {
        "colab": {
          "base_uri": "https://localhost:8080/"
        },
        "id": "LDtslKODJSlX",
        "outputId": "3dfb4d0d-83a1-4dae-8b83-5693ca7628fd"
      },
      "execution_count": null,
      "outputs": [
        {
          "output_type": "execute_result",
          "data": {
            "text/plain": [
              "85"
            ]
          },
          "metadata": {},
          "execution_count": 13
        }
      ]
    },
    {
      "cell_type": "code",
      "source": [
        "oh_the_places_youll_go[-1]  # inside the [], we will type the index we want... \"-1\" is the 1st index from the last"
      ],
      "metadata": {
        "colab": {
          "base_uri": "https://localhost:8080/",
          "height": 35
        },
        "id": "E_iWlB08KdV3",
        "outputId": "66f777b7-9f9c-4565-b4db-e4771ecb6426"
      },
      "execution_count": null,
      "outputs": [
        {
          "output_type": "execute_result",
          "data": {
            "text/plain": [
              "'😂'"
            ],
            "application/vnd.google.colaboratory.intrinsic+json": {
              "type": "string"
            }
          },
          "metadata": {},
          "execution_count": 14
        }
      ]
    },
    {
      "cell_type": "markdown",
      "source": [
        "# Booleans"
      ],
      "metadata": {
        "id": "4YAQV5X8LlO0"
      }
    },
    {
      "cell_type": "code",
      "source": [
        "sunny_in_seattle = False\n",
        "i_want_coffee = True\n",
        "\n",
        "sunny_in_seattle and i_want_coffee, sunny_in_seattle or i_want_coffee, not sunny_in_seattle"
      ],
      "metadata": {
        "colab": {
          "base_uri": "https://localhost:8080/"
        },
        "id": "J9AnecycKw-6",
        "outputId": "3d0160df-4260-46e5-a1d2-49fe283bc91a"
      },
      "execution_count": null,
      "outputs": [
        {
          "output_type": "execute_result",
          "data": {
            "text/plain": [
              "(False, True, True)"
            ]
          },
          "metadata": {},
          "execution_count": 15
        }
      ]
    },
    {
      "cell_type": "markdown",
      "source": [
        "### Challenge\n",
        "Create a variable called 'my_age' that holds your age and one called 'my_name' that contains your name. Then create a string that says 'My name is Will and my age is 26' (only replace Will and 27 with your variables)."
      ],
      "metadata": {
        "id": "VNmMtDzxMoef"
      }
    },
    {
      "cell_type": "code",
      "source": [
        "my_age = 20\n",
        "my_name = 'Teja'\n",
        "\n",
        "sentence = f'My name is {my_name} and my age is {my_age}.'\n",
        "\n",
        "sentence"
      ],
      "metadata": {
        "colab": {
          "base_uri": "https://localhost:8080/",
          "height": 35
        },
        "id": "1u18qNnjL6IR",
        "outputId": "de54d95b-6c26-4fae-ba6e-e4ec01c1fc9f"
      },
      "execution_count": null,
      "outputs": [
        {
          "output_type": "execute_result",
          "data": {
            "text/plain": [
              "'My name is Teja and my age is 20.'"
            ],
            "application/vnd.google.colaboratory.intrinsic+json": {
              "type": "string"
            }
          },
          "metadata": {},
          "execution_count": 35
        }
      ]
    },
    {
      "cell_type": "code",
      "source": [
        "cities = [              # creating a list to store similar data\n",
        "    'Nashville',\n",
        "    'Boston',\n",
        "    ]\n",
        "\n",
        "cities"
      ],
      "metadata": {
        "colab": {
          "base_uri": "https://localhost:8080/"
        },
        "id": "ZiO5qdiqN34g",
        "outputId": "c0f4a07c-4703-4349-ba40-86f7bd6737de"
      },
      "execution_count": null,
      "outputs": [
        {
          "output_type": "execute_result",
          "data": {
            "text/plain": [
              "['Nashville', 'Boston']"
            ]
          },
          "metadata": {},
          "execution_count": 17
        }
      ]
    },
    {
      "cell_type": "code",
      "source": [
        "cities.append('Seattle')  # append 'Seattle' to the end of the list\n",
        "\n",
        "cities"
      ],
      "metadata": {
        "colab": {
          "base_uri": "https://localhost:8080/"
        },
        "id": "MUVmykjROezU",
        "outputId": "feaf4a6f-2ac0-4944-bd52-aababe56b60a"
      },
      "execution_count": null,
      "outputs": [
        {
          "output_type": "execute_result",
          "data": {
            "text/plain": [
              "['Nashville', 'Boston', 'Seattle']"
            ]
          },
          "metadata": {},
          "execution_count": 18
        }
      ]
    },
    {
      "cell_type": "code",
      "source": [
        "cities[2], cities[0]      # accessing list items"
      ],
      "metadata": {
        "colab": {
          "base_uri": "https://localhost:8080/"
        },
        "id": "DabowY6BO9oQ",
        "outputId": "dbca965e-fc93-49cf-8bbf-474b52642701"
      },
      "execution_count": null,
      "outputs": [
        {
          "output_type": "execute_result",
          "data": {
            "text/plain": [
              "('Seattle', 'Nashville')"
            ]
          },
          "metadata": {},
          "execution_count": 19
        }
      ]
    },
    {
      "cell_type": "code",
      "source": [
        "my_string = 'hello!'\n",
        "\n",
        "for char in my_string:\n",
        "  print(char)"
      ],
      "metadata": {
        "colab": {
          "base_uri": "https://localhost:8080/"
        },
        "id": "3FgFr7DgPBU-",
        "outputId": "9889132c-8342-469f-c79c-7a6f61dc3e71"
      },
      "execution_count": null,
      "outputs": [
        {
          "output_type": "stream",
          "name": "stdout",
          "text": [
            "h\n",
            "e\n",
            "l\n",
            "l\n",
            "o\n",
            "!\n"
          ]
        }
      ]
    },
    {
      "cell_type": "code",
      "source": [
        "for city in cities:       # the variable 'city' can be anything as it is a temporary variable for this scope\n",
        "  print(city)"
      ],
      "metadata": {
        "colab": {
          "base_uri": "https://localhost:8080/"
        },
        "id": "mdeGmSThPmS-",
        "outputId": "65200e40-0bd2-430a-b2c9-c4e14f84689f"
      },
      "execution_count": null,
      "outputs": [
        {
          "output_type": "stream",
          "name": "stdout",
          "text": [
            "Nashville\n",
            "Boston\n",
            "Seattle\n"
          ]
        }
      ]
    },
    {
      "cell_type": "code",
      "source": [
        "for i in range(10):     # range(10) will print the number 0-9, i.e. if range(n) then it will print 0-(n-1)\n",
        "  print(i)"
      ],
      "metadata": {
        "colab": {
          "base_uri": "https://localhost:8080/"
        },
        "id": "R8bcdAB-PxEP",
        "outputId": "90ee9230-987b-43c8-ea3d-cf29b6736369"
      },
      "execution_count": null,
      "outputs": [
        {
          "output_type": "stream",
          "name": "stdout",
          "text": [
            "0\n",
            "1\n",
            "2\n",
            "3\n",
            "4\n",
            "5\n",
            "6\n",
            "7\n",
            "8\n",
            "9\n"
          ]
        }
      ]
    },
    {
      "cell_type": "code",
      "source": [
        "city_populations = {        # creating a dictionary in a series of \"key-value\" pairs\n",
        "    'Nashville': 690000,\n",
        "    'Boston': 684000,\n",
        "}\n",
        "\n",
        "city_populations\n",
        "\n",
        "# dictionary are also called \"HASH-MAPS\" or \"HASH-TABLES\"\n",
        "# very important"
      ],
      "metadata": {
        "colab": {
          "base_uri": "https://localhost:8080/"
        },
        "id": "BtCd-QpNQObX",
        "outputId": "b5d76796-f108-4857-d698-d5ec45bef1bb"
      },
      "execution_count": null,
      "outputs": [
        {
          "output_type": "execute_result",
          "data": {
            "text/plain": [
              "{'Nashville': 690000, 'Boston': 684000}"
            ]
          },
          "metadata": {},
          "execution_count": 23
        }
      ]
    },
    {
      "cell_type": "code",
      "source": [
        "import json   # a python library for using json-type files\n",
        "\n",
        "json.dumps(city_populations)    # using this json, we can create a json-type file from a given dictionary"
      ],
      "metadata": {
        "colab": {
          "base_uri": "https://localhost:8080/",
          "height": 35
        },
        "id": "Of3LG1YZcOdR",
        "outputId": "433d43ee-dbd0-4499-f5f7-aa6212b7f05c"
      },
      "execution_count": null,
      "outputs": [
        {
          "output_type": "execute_result",
          "data": {
            "text/plain": [
              "'{\"Nashville\": 690000, \"Boston\": 684000, \"Seattle\": 720000}'"
            ],
            "application/vnd.google.colaboratory.intrinsic+json": {
              "type": "string"
            }
          },
          "metadata": {},
          "execution_count": 36
        }
      ]
    },
    {
      "cell_type": "code",
      "source": [
        "city_populations['Boston']  # indexing to retrieve the data for a particular item\n",
        "\n",
        "# lists are ordered\n",
        "# dictionary are unordered (python 3-6) but from python 3-7, they were ordered... we can basically retrieve them from the order they were inserted in... (TECHNICALLY ORDERED)"
      ],
      "metadata": {
        "colab": {
          "base_uri": "https://localhost:8080/"
        },
        "id": "sjS5rk89RjJj",
        "outputId": "9b1ff5bc-4afa-4617-b0b4-8726db39b8ca"
      },
      "execution_count": null,
      "outputs": [
        {
          "output_type": "execute_result",
          "data": {
            "text/plain": [
              "684000"
            ]
          },
          "metadata": {},
          "execution_count": 24
        }
      ]
    },
    {
      "cell_type": "code",
      "source": [
        "city_populations['Seattle'] = 720000    # inserting/updating a \"key-value\" pair into a dictionary"
      ],
      "metadata": {
        "id": "lXSzBapGSKwi"
      },
      "execution_count": null,
      "outputs": []
    },
    {
      "cell_type": "code",
      "source": [
        "city_populations"
      ],
      "metadata": {
        "colab": {
          "base_uri": "https://localhost:8080/"
        },
        "id": "GDtK2TS7SnVd",
        "outputId": "df49e202-1168-4419-d585-8115f4fea598"
      },
      "execution_count": null,
      "outputs": [
        {
          "output_type": "execute_result",
          "data": {
            "text/plain": [
              "{'Nashville': 690000, 'Boston': 684000, 'Seattle': 720000}"
            ]
          },
          "metadata": {},
          "execution_count": 26
        }
      ]
    },
    {
      "cell_type": "code",
      "source": [
        "# to get the \"keys\" of a given dictionary\n",
        "\n",
        "city_populations.keys()"
      ],
      "metadata": {
        "colab": {
          "base_uri": "https://localhost:8080/"
        },
        "id": "MP3AVKyTdvGl",
        "outputId": "4884bd66-033c-4d12-c6dc-c86d3ab317d5"
      },
      "execution_count": null,
      "outputs": [
        {
          "output_type": "execute_result",
          "data": {
            "text/plain": [
              "dict_keys(['Nashville', 'Boston', 'Seattle'])"
            ]
          },
          "metadata": {},
          "execution_count": 37
        }
      ]
    },
    {
      "cell_type": "code",
      "source": [
        "# we can make it into a list\n",
        "\n",
        "list(city_populations.keys())"
      ],
      "metadata": {
        "colab": {
          "base_uri": "https://localhost:8080/"
        },
        "id": "zeu_7udId5XN",
        "outputId": "f18f4508-f7f5-44eb-9974-b034a39d2d1f"
      },
      "execution_count": null,
      "outputs": [
        {
          "output_type": "execute_result",
          "data": {
            "text/plain": [
              "['Nashville', 'Boston', 'Seattle']"
            ]
          },
          "metadata": {},
          "execution_count": 38
        }
      ]
    },
    {
      "cell_type": "code",
      "source": [
        "for key in city_populations.keys():   # to iterate through the dictionary according to the \"keys\"\n",
        "  print(key)"
      ],
      "metadata": {
        "colab": {
          "base_uri": "https://localhost:8080/"
        },
        "id": "vYJWwtN3So9n",
        "outputId": "ba6410c6-e240-4646-8d88-01e525dfd7c6"
      },
      "execution_count": null,
      "outputs": [
        {
          "output_type": "stream",
          "name": "stdout",
          "text": [
            "Nashville\n",
            "Boston\n",
            "Seattle\n"
          ]
        }
      ]
    },
    {
      "cell_type": "code",
      "source": [
        "for key in city_populations:          # to iterate through the dictionary\n",
        "  print(key)"
      ],
      "metadata": {
        "colab": {
          "base_uri": "https://localhost:8080/"
        },
        "id": "6w_ZCasWS9oh",
        "outputId": "24d48272-bae3-4ec5-8f1f-355ac386efd0"
      },
      "execution_count": null,
      "outputs": [
        {
          "output_type": "stream",
          "name": "stdout",
          "text": [
            "Nashville\n",
            "Boston\n",
            "Seattle\n"
          ]
        }
      ]
    },
    {
      "cell_type": "code",
      "source": [
        "city_populations.values()             # to get the \"values\" of a given dictionary"
      ],
      "metadata": {
        "colab": {
          "base_uri": "https://localhost:8080/"
        },
        "id": "cYwDn_VeTIp5",
        "outputId": "55bb022d-d861-4c2a-eed6-1e54b12bb582"
      },
      "execution_count": null,
      "outputs": [
        {
          "output_type": "execute_result",
          "data": {
            "text/plain": [
              "dict_values([690000, 684000, 720000])"
            ]
          },
          "metadata": {},
          "execution_count": 29
        }
      ]
    },
    {
      "cell_type": "markdown",
      "source": [
        "# Challenge\n",
        "Create a dictionary that maps the names of you and a couple family members or friends to their ages. Then give yourself a birthday by adding 1 to your age, and display the resulting dictionary."
      ],
      "metadata": {
        "id": "Uc_1UNjqTRQ8"
      }
    },
    {
      "cell_type": "code",
      "source": [
        "our_ages = {\n",
        "    'Teja': 20,\n",
        "    'Raj': 17,\n",
        "}\n",
        "\n",
        "our_ages['Teja'] += 1\n",
        "\n",
        "our_ages"
      ],
      "metadata": {
        "colab": {
          "base_uri": "https://localhost:8080/"
        },
        "id": "HWYIhD9uTVF7",
        "outputId": "33c93059-96e9-423b-ed51-3a048c834b43"
      },
      "execution_count": null,
      "outputs": [
        {
          "output_type": "execute_result",
          "data": {
            "text/plain": [
              "{'Will': 27, 'Richard': 23}"
            ]
          },
          "metadata": {},
          "execution_count": 30
        }
      ]
    },
    {
      "cell_type": "code",
      "source": [
        "# NESTED DICTIONARY\n",
        "\n",
        "our_profiles = {\n",
        "    'Teja' : {\n",
        "        'Age' : 20,\n",
        "        'Address' : 'Pune'\n",
        "    },\n",
        "}\n",
        "\n",
        "our_profiles"
      ],
      "metadata": {
        "colab": {
          "base_uri": "https://localhost:8080/"
        },
        "id": "lAUMcVlZfZ5i",
        "outputId": "51830ff1-4908-4b47-fe6a-3c52530ab484"
      },
      "execution_count": null,
      "outputs": [
        {
          "output_type": "execute_result",
          "data": {
            "text/plain": [
              "{'Teja': {'Age': 20, 'Address': 'Pune'}}"
            ]
          },
          "metadata": {},
          "execution_count": 39
        }
      ]
    },
    {
      "cell_type": "code",
      "source": [
        "# IF CONDITION\n",
        "\n",
        "pinapple_belongs_on_pizza = True\n",
        "\n",
        "if pinapple_belongs_on_pizza:\n",
        "  print('I like pineapple on pizza and I don\\'t care who knows!')"
      ],
      "metadata": {
        "colab": {
          "base_uri": "https://localhost:8080/"
        },
        "id": "6yWWEd_HT36r",
        "outputId": "8c6eeb9f-b079-4e5c-b469-75514d9be214"
      },
      "execution_count": null,
      "outputs": [
        {
          "output_type": "stream",
          "name": "stdout",
          "text": [
            "I like pineapple on pizza and I don't care who knows!\n"
          ]
        }
      ]
    },
    {
      "cell_type": "code",
      "source": [
        "# IF-ELSE CONDITION\n",
        "\n",
        "mashed_potatoes_are_good = False\n",
        "\n",
        "if mashed_potatoes_are_good:\n",
        "  print('I like mashed potatoes')\n",
        "else:\n",
        "  print('Mashed potatoes are literally baby food.')\n"
      ],
      "metadata": {
        "colab": {
          "base_uri": "https://localhost:8080/"
        },
        "id": "2PP8PRX8Ul7h",
        "outputId": "d537355b-515a-406f-91cb-c9f33f5643a7"
      },
      "execution_count": null,
      "outputs": [
        {
          "output_type": "stream",
          "name": "stdout",
          "text": [
            "Mashed potatoes are literally baby food.\n"
          ]
        }
      ]
    },
    {
      "cell_type": "code",
      "source": [
        "my_age = 20\n",
        "\n",
        "if my_age >= 16:\n",
        "  print('You can get a drivers license in the US!')\n",
        "\n",
        "if my_age != 22:\n",
        "  print('I don\\'t know about you, but I\\'m NOT feeling 22!')\n"
      ],
      "metadata": {
        "colab": {
          "base_uri": "https://localhost:8080/"
        },
        "id": "fFJdYTpWVC3Z",
        "outputId": "b4c51d2b-f688-411b-a208-537cff3e3e6d"
      },
      "execution_count": null,
      "outputs": [
        {
          "output_type": "stream",
          "name": "stdout",
          "text": [
            "You can get a drivers license in the US!\n",
            "I don't know about you, but I'm NOT feeling 22!\n"
          ]
        }
      ]
    },
    {
      "cell_type": "code",
      "source": [
        "tempurature_f = 82\n",
        "weather = 'Sunny'\n",
        "\n",
        "if tempurature_f > 70 and weather == 'Sunny':\n",
        "  print('Let\\'s go to the beach!')\n",
        "elif tempurature_f < 32 and weather == 'Snowy':\n",
        "  print('Let\\'s go skiing!')\n",
        "else:\n",
        "  print('Let\\'s stay inside and have some soup.')"
      ],
      "metadata": {
        "colab": {
          "base_uri": "https://localhost:8080/"
        },
        "id": "qkiyXeYJVkXW",
        "outputId": "32f7eb0a-a3b8-459f-e9d6-b7aac1a9d37c"
      },
      "execution_count": null,
      "outputs": [
        {
          "output_type": "stream",
          "name": "stdout",
          "text": [
            "Let's go to the beach!\n"
          ]
        }
      ]
    }
  ]
}